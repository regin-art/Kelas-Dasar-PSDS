{
  "nbformat": 4,
  "nbformat_minor": 0,
  "metadata": {
    "colab": {
      "name": "M2P2V4_Strutur_Data_String.ipynb",
      "provenance": []
    },
    "kernelspec": {
      "name": "python3",
      "display_name": "Python 3"
    },
    "language_info": {
      "name": "python"
    }
  },
  "cells": [
    {
      "cell_type": "markdown",
      "metadata": {
        "id": "4pJqrFRhsylK"
      },
      "source": [
        "# String\n",
        "Sona Regina Salsabila | Matematika\n",
        "\n",
        "\n",
        "\n"
      ]
    },
    {
      "cell_type": "markdown",
      "metadata": {
        "id": "rVgRWlGbtEtV"
      },
      "source": [
        "Sting dideklarasikan dengan diapit oleh tanda petik."
      ]
    },
    {
      "cell_type": "code",
      "metadata": {
        "colab": {
          "base_uri": "https://localhost:8080/"
        },
        "id": "UDUf3Pwasx5D",
        "outputId": "fe4ec27a-302c-4527-9f70-8cb2894a6491"
      },
      "source": [
        "#Menampilkan String dengan fungsi print()\n",
        "print(\"Hello World!\")"
      ],
      "execution_count": 1,
      "outputs": [
        {
          "output_type": "stream",
          "name": "stdout",
          "text": [
            "Hello World!\n"
          ]
        }
      ]
    },
    {
      "cell_type": "code",
      "metadata": {
        "colab": {
          "base_uri": "https://localhost:8080/"
        },
        "id": "SA2SXPkTsmTF",
        "outputId": "5653749e-36a6-4383-8fff-09337e61451e"
      },
      "source": [
        "#Membuat variabel bertipe string\n",
        "A = \"Belajar struktur data string\"\n",
        "print(A)"
      ],
      "execution_count": 2,
      "outputs": [
        {
          "output_type": "stream",
          "name": "stdout",
          "text": [
            "Belajar struktur data string\n"
          ]
        }
      ]
    },
    {
      "cell_type": "code",
      "metadata": {
        "colab": {
          "base_uri": "https://localhost:8080/"
        },
        "id": "aLsg1JrRuTj8",
        "outputId": "163b0de2-7f4a-48f3-9cbd-fdde87430279"
      },
      "source": [
        "#Membuat variabel string multi-line dengan 3 tanda petik \n",
        "B = \"\"\"Belajar Python\n",
        "Pejuang Data 3.0 \n",
        "PSDS\n",
        "String\"\"\"\n",
        "print(B)"
      ],
      "execution_count": 3,
      "outputs": [
        {
          "output_type": "stream",
          "name": "stdout",
          "text": [
            "Belajar Python\n",
            "Pejuang Data 3.0 \n",
            "PSDS\n",
            "String\n"
          ]
        }
      ]
    },
    {
      "cell_type": "code",
      "metadata": {
        "colab": {
          "base_uri": "https://localhost:8080/"
        },
        "id": "FtzKOcTruUHQ",
        "outputId": "0878156d-959f-40b5-ef3e-feb30c36ed75"
      },
      "source": [
        "#Membuat karakter tertentu dengan srting\n",
        "print(A[2])"
      ],
      "execution_count": 4,
      "outputs": [
        {
          "output_type": "stream",
          "name": "stdout",
          "text": [
            "l\n"
          ]
        }
      ]
    },
    {
      "cell_type": "code",
      "metadata": {
        "colab": {
          "base_uri": "https://localhost:8080/"
        },
        "id": "_YNUnvz3vK8t",
        "outputId": "5915942e-6fa8-4dd0-db8a-a96383638abe"
      },
      "source": [
        "#Slicing pada string\n",
        "#Membuat variabel bertipe string\n",
        "A = \"Belajar struktur data string\"\n",
        "print(A[:5])\n",
        "print(A[3:])\n",
        "print(A[-5:])\n",
        "print(A[4:9])"
      ],
      "execution_count": 7,
      "outputs": [
        {
          "output_type": "stream",
          "name": "stdout",
          "text": [
            "Belaj\n",
            "ajar struktur data string\n",
            "tring\n",
            "jar s\n"
          ]
        }
      ]
    },
    {
      "cell_type": "markdown",
      "metadata": {
        "id": "-9BIQ5t9vf4E"
      },
      "source": [
        "**Latihan 1**"
      ]
    },
    {
      "cell_type": "code",
      "metadata": {
        "colab": {
          "base_uri": "https://localhost:8080/"
        },
        "id": "j3Ow6876vLV-",
        "outputId": "381e6240-0319-4b19-c076-afa8cb860024"
      },
      "source": [
        "str1 = \"Indonesia is a wonderland\"\n",
        "print(str1[-24:-1])\n",
        "print(str1[1:])\n",
        "print(str1[9:21])"
      ],
      "execution_count": 22,
      "outputs": [
        {
          "output_type": "stream",
          "name": "stdout",
          "text": [
            "ndonesia is a wonderlan\n",
            "ndonesia is a wonderland\n",
            " is a wonder\n"
          ]
        }
      ]
    },
    {
      "cell_type": "markdown",
      "metadata": {
        "id": "BpzaDXH8zNBA"
      },
      "source": [
        "#Memodifikasi String"
      ]
    },
    {
      "cell_type": "code",
      "metadata": {
        "colab": {
          "base_uri": "https://localhost:8080/",
          "height": 35
        },
        "id": "KKU-ge_zvLsB",
        "outputId": "16eb3083-205d-4227-a818-6108683e1543"
      },
      "source": [
        "#upper()\n",
        "A.upper()"
      ],
      "execution_count": 24,
      "outputs": [
        {
          "output_type": "execute_result",
          "data": {
            "application/vnd.google.colaboratory.intrinsic+json": {
              "type": "string"
            },
            "text/plain": [
              "'BELAJAR STRUKTUR DATA STRING'"
            ]
          },
          "metadata": {},
          "execution_count": 24
        }
      ]
    },
    {
      "cell_type": "code",
      "metadata": {
        "colab": {
          "base_uri": "https://localhost:8080/",
          "height": 35
        },
        "id": "9lmziw2Jz_om",
        "outputId": "d68e54b8-78f5-4711-cbdf-188f00dad99b"
      },
      "source": [
        "#lower()\n",
        "A.lower()"
      ],
      "execution_count": 28,
      "outputs": [
        {
          "output_type": "execute_result",
          "data": {
            "application/vnd.google.colaboratory.intrinsic+json": {
              "type": "string"
            },
            "text/plain": [
              "'belajar struktur data string'"
            ]
          },
          "metadata": {},
          "execution_count": 28
        }
      ]
    },
    {
      "cell_type": "code",
      "metadata": {
        "colab": {
          "base_uri": "https://localhost:8080/",
          "height": 35
        },
        "id": "m67prk5H0BPT",
        "outputId": "e769d70a-b714-4bc1-eb30-7fc83c10d7c0"
      },
      "source": [
        "#replace()\n",
        "A.replace('l', 'd')"
      ],
      "execution_count": 29,
      "outputs": [
        {
          "output_type": "execute_result",
          "data": {
            "application/vnd.google.colaboratory.intrinsic+json": {
              "type": "string"
            },
            "text/plain": [
              "'Bedajar struktur data string'"
            ]
          },
          "metadata": {},
          "execution_count": 29
        }
      ]
    },
    {
      "cell_type": "code",
      "metadata": {
        "colab": {
          "base_uri": "https://localhost:8080/"
        },
        "id": "tdPROW1R0KhN",
        "outputId": "89b57ad9-467f-4660-af53-e3cd8a63a79e"
      },
      "source": [
        "#spli()\n",
        "A.split()"
      ],
      "execution_count": 30,
      "outputs": [
        {
          "output_type": "execute_result",
          "data": {
            "text/plain": [
              "['Belajar', 'struktur', 'data', 'string']"
            ]
          },
          "metadata": {},
          "execution_count": 30
        }
      ]
    },
    {
      "cell_type": "markdown",
      "metadata": {
        "id": "d_Bvww4mz-GQ"
      },
      "source": [
        "# Menggabungkan String"
      ]
    },
    {
      "cell_type": "code",
      "metadata": {
        "colab": {
          "base_uri": "https://localhost:8080/",
          "height": 35
        },
        "id": "d7TJuEQ_0WFP",
        "outputId": "1dd1a641-cf4e-473d-99f1-258b06231c00"
      },
      "source": [
        "A = \"Belajar struktur data string\"\n",
        "B = \"Pejuang Data 3.0\"\n",
        "A + \" \" + B"
      ],
      "execution_count": 31,
      "outputs": [
        {
          "output_type": "execute_result",
          "data": {
            "application/vnd.google.colaboratory.intrinsic+json": {
              "type": "string"
            },
            "text/plain": [
              "'Belajar struktur data string Pejuang Data 3.0'"
            ]
          },
          "metadata": {},
          "execution_count": 31
        }
      ]
    },
    {
      "cell_type": "markdown",
      "metadata": {
        "id": "Vmrl9V5l0ztx"
      },
      "source": [
        "**Latihan 2**"
      ]
    },
    {
      "cell_type": "code",
      "metadata": {
        "colab": {
          "base_uri": "https://localhost:8080/",
          "height": 35
        },
        "id": "xqgNetFc0yvp",
        "outputId": "fb7469dd-5a09-4bc3-d977-c984b5b403d1"
      },
      "source": [
        "str1 = \"indonesia is a wonderland\"\n",
        "str1.replace('i', 'a')"
      ],
      "execution_count": 33,
      "outputs": [
        {
          "output_type": "execute_result",
          "data": {
            "application/vnd.google.colaboratory.intrinsic+json": {
              "type": "string"
            },
            "text/plain": [
              "'andonesaa as a wonderland'"
            ]
          },
          "metadata": {},
          "execution_count": 33
        }
      ]
    }
  ]
}