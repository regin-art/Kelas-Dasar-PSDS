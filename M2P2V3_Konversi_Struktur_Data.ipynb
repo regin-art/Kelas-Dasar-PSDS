{
  "nbformat": 4,
  "nbformat_minor": 0,
  "metadata": {
    "colab": {
      "name": "M2P2V3_Konversi_Struktur_Data.ipynb",
      "provenance": []
    },
    "kernelspec": {
      "name": "python3",
      "display_name": "Python 3"
    },
    "language_info": {
      "name": "python"
    }
  },
  "cells": [
    {
      "cell_type": "markdown",
      "metadata": {
        "id": "GgqjV5RBndZy"
      },
      "source": [
        "# Konversi Struktur Data\n",
        "Sona Regina Salsabila | Matematika"
      ]
    },
    {
      "cell_type": "markdown",
      "metadata": {
        "id": "bc3vdKRGqczi"
      },
      "source": [
        "Fungsi untuk mengubah/konversi dtruktur data:\n",
        "\n",
        "a. list()   : untuk mengubah menjadi list\n",
        "\n",
        "b. tuple(): untuk mengubah menjadi tuple\n",
        "\n",
        "c. set()  : untuk mengubah menjadi set\n",
        "\n",
        "d. dict() : untuk mengubsh menjadi dictionary "
      ]
    },
    {
      "cell_type": "markdown",
      "metadata": {
        "id": "MhwEGrs6rgAr"
      },
      "source": [
        "##Mengkonversi tipe data list:"
      ]
    },
    {
      "cell_type": "code",
      "metadata": {
        "id": "Mvc6k8mGnQRy"
      },
      "source": [
        "#Membuat 2 list\n",
        "l1 = [1, 2, 3, 4]\n",
        "l2 = [5, 6, 7, 8]"
      ],
      "execution_count": null,
      "outputs": []
    },
    {
      "cell_type": "code",
      "metadata": {
        "colab": {
          "base_uri": "https://localhost:8080/"
        },
        "id": "vpk8jECwsvIC",
        "outputId": "6f201903-678e-4538-9bcb-e230be36ddb9"
      },
      "source": [
        "#Mengkonversi struktur data list\n",
        "k_tuple = tuple(l1)\n",
        "k_set = set(l2)\n",
        "k_dict = dict(zip(l1, l2))\n",
        "print(k_tuple)\n",
        "print(k_set)\n",
        "print(k_dict)"
      ],
      "execution_count": null,
      "outputs": [
        {
          "output_type": "stream",
          "name": "stdout",
          "text": [
            "(1, 2, 3, 4)\n",
            "{8, 5, 6, 7}\n",
            "{1: 5, 2: 6, 3: 7, 4: 8}\n"
          ]
        }
      ]
    },
    {
      "cell_type": "markdown",
      "metadata": {
        "id": "0EJEN0a68fVw"
      },
      "source": [
        "##Mengkonversi tipe data tuple"
      ]
    },
    {
      "cell_type": "code",
      "metadata": {
        "id": "agGBv9L60A5k"
      },
      "source": [
        "# membuat dua data tuple\n",
        "t1 = (1, 2, 3, 4)\n",
        "t2 = (5, 6, 7, 8)"
      ],
      "execution_count": null,
      "outputs": []
    },
    {
      "cell_type": "code",
      "metadata": {
        "colab": {
          "base_uri": "https://localhost:8080/"
        },
        "id": "ax9nT1Hs9Lxl",
        "outputId": "fa0688da-a70f-46f2-e051-4aaae09889c6"
      },
      "source": [
        "#Mengkonversi struktur data tuple\n",
        "k_list = list(t1)\n",
        "k_set = set(t2)\n",
        "k_dict = dict(zip(t1, t2))\n",
        "print(k_list)\n",
        "print(k_set)\n",
        "print(k_dict)"
      ],
      "execution_count": null,
      "outputs": [
        {
          "output_type": "stream",
          "name": "stdout",
          "text": [
            "[1, 2, 3, 4]\n",
            "{8, 5, 6, 7}\n",
            "{1: 5, 2: 6, 3: 7, 4: 8}\n"
          ]
        }
      ]
    },
    {
      "cell_type": "markdown",
      "metadata": {
        "id": "iU6FWCw49gv4"
      },
      "source": [
        "##Mengkonversi tipe data set"
      ]
    },
    {
      "cell_type": "code",
      "metadata": {
        "id": "1zNF0dp29dlM"
      },
      "source": [
        "# membuat dua data set\n",
        "s1 = {1, 2, 3, 4}\n",
        "s2 = {5, 6, 7, 8}"
      ],
      "execution_count": null,
      "outputs": []
    },
    {
      "cell_type": "code",
      "metadata": {
        "colab": {
          "base_uri": "https://localhost:8080/"
        },
        "id": "SsK_D9ya-thq",
        "outputId": "f11187e6-e1e0-4e2d-c5e2-3dac17739756"
      },
      "source": [
        "#Mengkonversi struktur data set\n",
        "k_list = list(s1)\n",
        "k_tuple = tuple(s2)\n",
        "k_dict = dict(zip(s1, s2))\n",
        "print(k_list)\n",
        "print(k_tuple)\n",
        "print(k_dict)"
      ],
      "execution_count": null,
      "outputs": [
        {
          "output_type": "stream",
          "name": "stdout",
          "text": [
            "[1, 2, 3, 4]\n",
            "(8, 5, 6, 7)\n",
            "{1: 8, 2: 5, 3: 6, 4: 7}\n"
          ]
        }
      ]
    },
    {
      "cell_type": "markdown",
      "metadata": {
        "id": "MqeioHGc-hKB"
      },
      "source": [
        "##Mengkonversi tipe data dictionary\n",
        "\n",
        "\n"
      ]
    },
    {
      "cell_type": "code",
      "metadata": {
        "id": "VewRiiDQ-cVL"
      },
      "source": [
        "# membuat dua data dictionary\n",
        "D = {\n",
        "    \"nama\": \"Andy\",\n",
        "     \"alamat\": \"Yogyakarta\",\n",
        "     \"umur\": 20\n",
        "}"
      ],
      "execution_count": null,
      "outputs": []
    },
    {
      "cell_type": "code",
      "metadata": {
        "colab": {
          "base_uri": "https://localhost:8080/"
        },
        "id": "JD_SeV_W_Vds",
        "outputId": "bf95bacd-fa43-4b00-ad13-d47b7eb5ab81"
      },
      "source": [
        "#Mengkonversi struktur data tuple\n",
        "k_list = list(D.keys())\n",
        "k_tuple = tuple(D.values())\n",
        "k_set = set(D.keys())\n",
        "print(k_list)\n",
        "print(k_tuple)\n",
        "print(k_set) "
      ],
      "execution_count": null,
      "outputs": [
        {
          "output_type": "stream",
          "name": "stdout",
          "text": [
            "['nama', 'alamat', 'umur']\n",
            "('Andy', 'Yogyakarta', 20)\n",
            "{'alamat', 'umur', 'nama'}\n"
          ]
        }
      ]
    },
    {
      "cell_type": "markdown",
      "metadata": {
        "id": "GPCAlXldEMBa"
      },
      "source": [
        "**Latihan**"
      ]
    },
    {
      "cell_type": "markdown",
      "metadata": {
        "id": "9yoVbjj0Ec5I"
      },
      "source": [
        "##Mengkonversi tipe data list\n",
        "\n",
        "\n"
      ]
    },
    {
      "cell_type": "code",
      "metadata": {
        "id": "_WsgshK5EoKu"
      },
      "source": [
        "#Membuat 2 list\n",
        "letters = [\"Halo\", \"Matematika\", \"UAD\", 2021]\n",
        "pick = ['mangga', 45, (8j+7), False]"
      ],
      "execution_count": null,
      "outputs": []
    },
    {
      "cell_type": "code",
      "metadata": {
        "colab": {
          "base_uri": "https://localhost:8080/"
        },
        "id": "QvaRmBXRFRmG",
        "outputId": "3eac4767-f496-462f-8659-b91b8dd1319b"
      },
      "source": [
        "#Mengkonversi struktur data list\n",
        "k_tuple = tuple(letters)\n",
        "k_set = set(pick)\n",
        "k_dict = dict(zip(letters, pick))\n",
        "print(k_tuple)\n",
        "print(k_set)\n",
        "print(k_dict)"
      ],
      "execution_count": null,
      "outputs": [
        {
          "output_type": "stream",
          "name": "stdout",
          "text": [
            "('Halo', 'Matematika', 'UAD', 2021)\n",
            "{'mangga', False, 45, (7+8j)}\n",
            "{'Halo': 'mangga', 'Matematika': 45, 'UAD': (7+8j), 2021: False}\n"
          ]
        }
      ]
    },
    {
      "cell_type": "markdown",
      "metadata": {
        "id": "EgPH7e4REdR2"
      },
      "source": [
        "##Mengkonversi tipe data tupple\n",
        "\n",
        "\n",
        "\n",
        "\n",
        "\n"
      ]
    },
    {
      "cell_type": "code",
      "metadata": {
        "id": "9XmjEY8NT363"
      },
      "source": [
        "tup = (\"matrix\", 225, 0, \"fondasi\", True)\n",
        "tup2 = (26, \"bird\", 11.02, False)"
      ],
      "execution_count": 1,
      "outputs": []
    },
    {
      "cell_type": "code",
      "metadata": {
        "colab": {
          "base_uri": "https://localhost:8080/"
        },
        "id": "haGrTW3grnAI",
        "outputId": "0b669cb1-9539-4bce-f986-1befd25969ea"
      },
      "source": [
        "#Mengkonversi struktur data tuple\n",
        "k_list = list(tup)\n",
        "k_set = set(tup2)\n",
        "k_dict = dict(zip(tup, tup2))\n",
        "print(k_list)\n",
        "print(k_set)\n",
        "print(k_dict)"
      ],
      "execution_count": 2,
      "outputs": [
        {
          "output_type": "stream",
          "name": "stdout",
          "text": [
            "['matrix', 225, 0, 'fondasi', True]\n",
            "{False, 26, 11.02, 'bird'}\n",
            "{'matrix': 26, 225: 'bird', 0: 11.02, 'fondasi': False}\n"
          ]
        }
      ]
    },
    {
      "cell_type": "markdown",
      "metadata": {
        "id": "YPAWUrOGEfQg"
      },
      "source": [
        "##Mengkonversi tipe data set\n",
        "\n",
        "\n"
      ]
    },
    {
      "cell_type": "code",
      "metadata": {
        "id": "-qLMnBqXL41U"
      },
      "source": [
        "# membuat dua data set\n",
        "set1 = {1, \"seratus\", True, 45.9, 6+9j}\n",
        "set2 = {2, \"satu\", 5, 0, 7+7j}"
      ],
      "execution_count": null,
      "outputs": []
    },
    {
      "cell_type": "code",
      "metadata": {
        "colab": {
          "base_uri": "https://localhost:8080/"
        },
        "id": "s0tWl_rcMvLk",
        "outputId": "38418fe9-fa13-484d-8982-574e7eecea5d"
      },
      "source": [
        "#Mengkonversi struktur data set\n",
        "k_list = list(set1)\n",
        "k_tuple = tuple(set2)\n",
        "k_dict = dict(zip(set1, set2))\n",
        "print(k_list)\n",
        "print(k_tuple)\n",
        "print(k_dict)"
      ],
      "execution_count": null,
      "outputs": [
        {
          "output_type": "stream",
          "name": "stdout",
          "text": [
            "[1, (6+9j), 45.9, 'seratus']\n",
            "(0, 2, 5, (7+7j), 'satu')\n",
            "{1: 0, (6+9j): 2, 45.9: 5, 'seratus': (7+7j)}\n"
          ]
        }
      ]
    },
    {
      "cell_type": "markdown",
      "metadata": {
        "id": "GrofV9M7Efc5"
      },
      "source": [
        "##Mengkonversi tipe data dictionary\n",
        "\n",
        "\n"
      ]
    },
    {
      "cell_type": "code",
      "metadata": {
        "id": "t2m9FrOUEO0L"
      },
      "source": [
        "a = {1:1, 2:4, 3:9, 4:16, 8:64}\n"
      ],
      "execution_count": null,
      "outputs": []
    },
    {
      "cell_type": "code",
      "metadata": {
        "colab": {
          "base_uri": "https://localhost:8080/"
        },
        "id": "JfOyl-axQEz4",
        "outputId": "ffad6f1c-b545-47c6-b8c0-3876eee16ee3"
      },
      "source": [
        "#Mengkonversi struktur data tuple\n",
        "k_list = list(a.keys())\n",
        "k_tuple = tuple(a.values())\n",
        "k_set = set(a.keys())\n",
        "print(k_list)\n",
        "print(k_tuple)\n",
        "print(k_set) "
      ],
      "execution_count": null,
      "outputs": [
        {
          "output_type": "stream",
          "name": "stdout",
          "text": [
            "[1, 2, 3, 4, 8]\n",
            "(1, 4, 9, 16, 64)\n",
            "{1, 2, 3, 4, 8}\n"
          ]
        }
      ]
    }
  ]
}